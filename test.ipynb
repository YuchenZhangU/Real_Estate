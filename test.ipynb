{
 "metadata": {
  "language_info": {
   "codemirror_mode": {
    "name": "ipython",
    "version": 3
   },
   "file_extension": ".py",
   "mimetype": "text/x-python",
   "name": "python",
   "nbconvert_exporter": "python",
   "pygments_lexer": "ipython3",
   "version": "3.7.3-final"
  },
  "orig_nbformat": 2,
  "kernelspec": {
   "name": "python3",
   "display_name": "Python 3",
   "language": "python"
  }
 },
 "nbformat": 4,
 "nbformat_minor": 2,
 "cells": [
  {
   "source": [
    "## Houston zip code\n",
    "Rice Military 77007\n",
    "Katy 77494\n",
    "Methods\n",
    "- Divide houston metropolitan area into 2 counties: Harris county and Fort Bend county"
   ],
   "cell_type": "markdown",
   "metadata": {}
  },
  {
   "cell_type": "code",
   "execution_count": 13,
   "metadata": {},
   "outputs": [],
   "source": [
    "import numpy as np\n",
    "import pandas as pd\n",
    "from bs4 import BeautifulSoup\n",
    "import time\n",
    "import webdriver\n",
    "from random import seed, randint, random"
   ]
  },
  {
   "cell_type": "code",
   "execution_count": 14,
   "metadata": {},
   "outputs": [],
   "source": [
    "def dstr_2_int(dstr):\n",
    "    return int(dstr[1:].replace(',',''))\n",
    "def get_p_z_zr_mc(soup):\n",
    "    soup_p = soup.select('div.ds-chip>div.ds-home-details-chip>div.ds-summary-row-container>div.ds-summary-row-content>div.ds-summary-row>h4>span>span')\n",
    "    if soup_p:\n",
    "        if len(soup_p) > 1: # \"From 399,000\" From is in the first <span>\n",
    "            Price = dstr_2_int(soup_p[-1].text)\n",
    "        else:\n",
    "            Price = dstr_2_int(soup_p[0].text)\n",
    "    else:\n",
    "        Price = 0\n",
    "\n",
    "    soup_zm = soup.select('div#ds-home-values div.ds-expandable-card-section-default-padding>div>div>div>div>span')\n",
    "    if soup_zm:\n",
    "        Zestmate = dstr_2_int(soup_zm[0].text)\n",
    "    else:\n",
    "        Zestmate = 0\n",
    "    \n",
    "    soup_zmr = soup.select('div#ds-rental-home-values span.Text-c11n-8-18-0__aiai24-0.bloUvX')\n",
    "    if soup_zmr:\n",
    "        Zestmate_Rent = dstr_2_int(soup_zmr[0].text.replace('/mo', ''))\n",
    "    else:\n",
    "        Zestmate_Rent = 0\n",
    "   \n",
    "    soup_mc = soup.select('li.ds-data-view-item>div>div.ds-expandable-card-section-default-padding>div.ds-expandable-card>div>h5')\n",
    "    #('h5.Text-c11n-8-18-0__aiai24-0.StyledHeading-c11n-8-18-0__ktujwe-0.LJxVR.sc-qQmou.bViFbQ')\n",
    "    if soup_mc:\n",
    "        Monthly_Cost = dstr_2_int(soup_mc[0].text)\n",
    "    else:\n",
    "        Monthly_Cost = 0\n",
    "    return Price, Zestmate, Zestmate_Rent, Monthly_Cost\n",
    "def get_school_info(soup):\n",
    "    soup_sh = soup.select('span#skip-link-schools+div li>div:first-of-type>div>span:first-of-type')\n",
    "    if soup_sh:\n",
    "        scores = map(lambda x: x.text, soup_sh)\n",
    "        scores_int = map(lambda x: int(x.text), soup_sh)\n",
    "        return ','.join(scores), sum(scores_int)\n",
    "    else:\n",
    "        return '', 0\n",
    "\n",
    "def extract_zillow_info(df_out, path_out, n_start=0, driver_type='selenium', sec_sleep=3):\n",
    "    cols = ['zestmate', 'zestmate_rent', 'monthly_cost', 'school', 'school_sum', 'monthly_cash_flow', 'yearly_return']\n",
    "    for c in cols:\n",
    "        df_out[c] = np.nan\n",
    "    for i, row in df_out[n_start:].iterrows():\n",
    "        url = row['url']\n",
    "        # print(url)\n",
    "        soup = webdriver.get_soup(url, driver_type=driver_type)\n",
    "        Price, Zestmate, Zestmate_Rent, Monthly_Cost = get_p_z_zr_mc(soup)\n",
    "        sch_scores, sch_scores_sum = get_school_info(soup)\n",
    "        # print(Price, Zestmate, Zestmate_Rent, Monthly_Cost)\n",
    "        # print(sch_scores)\n",
    "        df_out.loc[i, ['zestmate', 'zestmate_rent', 'monthly_cost', 'school', 'school_sum']] = Zestmate, Zestmate_Rent, Monthly_Cost, sch_scores, sch_scores_sum\n",
    "        if Zestmate_Rent != 0 and Monthly_Cost != 0:\n",
    "            df_out.loc[i, 'monthly_cash_flow'] = Zestmate_Rent - Monthly_Cost\n",
    "            # the yearly return assumes 20% down payment and 2% overall closing fee\n",
    "            df_out.loc[i, 'yearly_return'] = round((Zestmate_Rent - Monthly_Cost) * 12 / (Price * 0.22), 3)\n",
    "        if i % 50 == 0:\n",
    "            df_out.to_csv(path_out)\n",
    "            print(f'{i} homes have been scaped ....')\n",
    "        time.sleep(random() * sec_sleep)\n",
    "    df_out.to_csv(path_out)"
   ]
  },
  {
   "source": [
    "### Get all Fort Bend info"
   ],
   "cell_type": "markdown",
   "metadata": {}
  },
  {
   "cell_type": "code",
   "execution_count": 15,
   "metadata": {},
   "outputs": [],
   "source": [
    "df = pd.read_csv(r'data/dataset_FortBend_2021-01-10.csv')"
   ]
  },
  {
   "cell_type": "code",
   "execution_count": 16,
   "metadata": {},
   "outputs": [],
   "source": [
    "cols = [c for c in df.columns if 'photo' not in c]\n",
    "df_out = df[cols]\n",
    "df_out['zestmate'], df_out['zestmate_rent'], df_out['monthly_cost'] = [np.nan, np.nan, np.nan]\n",
    "df_out['monthly_cash_flow'] = np.nan\n",
    "df_out['yearly_return'] = np.nan\n",
    "df_out['school'] = np.nan"
   ]
  },
  {
   "cell_type": "code",
   "execution_count": 17,
   "metadata": {},
   "outputs": [],
   "source": [
    "# filter out land with no bedroom or bathroom\n",
    "df_out = df_out[(df_out.bedrooms) > 0 & (df_out.bathrooms > 0)].reset_index()"
   ]
  },
  {
   "cell_type": "code",
   "execution_count": 18,
   "metadata": {},
   "outputs": [
    {
     "output_type": "stream",
     "name": "stdout",
     "text": [
      "0 homes have been scaped ....\n"
     ]
    },
    {
     "output_type": "error",
     "ename": "NoSuchWindowException",
     "evalue": "Message: no such window: target window already closed\nfrom unknown error: web view not found\n  (Session info: chrome=87.0.4280.141)\n",
     "traceback": [
      "\u001b[0;31m---------------------------------------------------------------------------\u001b[0m",
      "\u001b[0;31mNoSuchWindowException\u001b[0m                     Traceback (most recent call last)",
      "\u001b[0;32m<ipython-input-18-f87f66004198>\u001b[0m in \u001b[0;36m<module>\u001b[0;34m\u001b[0m\n\u001b[0;32m----> 1\u001b[0;31m \u001b[0mextract_zillow_info\u001b[0m\u001b[0;34m(\u001b[0m\u001b[0mdf_out\u001b[0m\u001b[0;34m,\u001b[0m \u001b[0;34m'./FB2.csv'\u001b[0m\u001b[0;34m,\u001b[0m \u001b[0mn_start\u001b[0m\u001b[0;34m=\u001b[0m\u001b[0;36m0\u001b[0m\u001b[0;34m,\u001b[0m \u001b[0mdriver_type\u001b[0m\u001b[0;34m=\u001b[0m\u001b[0;34m'selenium'\u001b[0m\u001b[0;34m,\u001b[0m \u001b[0msec_sleep\u001b[0m\u001b[0;34m=\u001b[0m\u001b[0;36m3\u001b[0m\u001b[0;34m)\u001b[0m\u001b[0;34m\u001b[0m\u001b[0;34m\u001b[0m\u001b[0m\n\u001b[0m",
      "\u001b[0;32m<ipython-input-14-2f6026017eb0>\u001b[0m in \u001b[0;36mextract_zillow_info\u001b[0;34m(df_out, path_out, n_start, driver_type, sec_sleep)\u001b[0m\n\u001b[1;32m     46\u001b[0m         \u001b[0murl\u001b[0m \u001b[0;34m=\u001b[0m \u001b[0mrow\u001b[0m\u001b[0;34m[\u001b[0m\u001b[0;34m'url'\u001b[0m\u001b[0;34m]\u001b[0m\u001b[0;34m\u001b[0m\u001b[0;34m\u001b[0m\u001b[0m\n\u001b[1;32m     47\u001b[0m         \u001b[0;31m# print(url)\u001b[0m\u001b[0;34m\u001b[0m\u001b[0;34m\u001b[0m\u001b[0;34m\u001b[0m\u001b[0m\n\u001b[0;32m---> 48\u001b[0;31m         \u001b[0msoup\u001b[0m \u001b[0;34m=\u001b[0m \u001b[0mwebdriver\u001b[0m\u001b[0;34m.\u001b[0m\u001b[0mget_soup\u001b[0m\u001b[0;34m(\u001b[0m\u001b[0murl\u001b[0m\u001b[0;34m,\u001b[0m \u001b[0mdriver_type\u001b[0m\u001b[0;34m=\u001b[0m\u001b[0mdriver_type\u001b[0m\u001b[0;34m)\u001b[0m\u001b[0;34m\u001b[0m\u001b[0;34m\u001b[0m\u001b[0m\n\u001b[0m\u001b[1;32m     49\u001b[0m         \u001b[0mPrice\u001b[0m\u001b[0;34m,\u001b[0m \u001b[0mZestmate\u001b[0m\u001b[0;34m,\u001b[0m \u001b[0mZestmate_Rent\u001b[0m\u001b[0;34m,\u001b[0m \u001b[0mMonthly_Cost\u001b[0m \u001b[0;34m=\u001b[0m \u001b[0mget_p_z_zr_mc\u001b[0m\u001b[0;34m(\u001b[0m\u001b[0msoup\u001b[0m\u001b[0;34m)\u001b[0m\u001b[0;34m\u001b[0m\u001b[0;34m\u001b[0m\u001b[0m\n\u001b[1;32m     50\u001b[0m         \u001b[0msch_scores\u001b[0m\u001b[0;34m,\u001b[0m \u001b[0msch_scores_sum\u001b[0m \u001b[0;34m=\u001b[0m \u001b[0mget_school_info\u001b[0m\u001b[0;34m(\u001b[0m\u001b[0msoup\u001b[0m\u001b[0;34m)\u001b[0m\u001b[0;34m\u001b[0m\u001b[0;34m\u001b[0m\u001b[0m\n",
      "\u001b[0;32m~/Documents/Reps/real_estate/webdriver.py\u001b[0m in \u001b[0;36mget_soup\u001b[0;34m(url, driver_type)\u001b[0m\n\u001b[1;32m     29\u001b[0m         \u001b[0mdriver\u001b[0m \u001b[0;34m=\u001b[0m \u001b[0mwebdriver\u001b[0m\u001b[0;34m.\u001b[0m\u001b[0mChrome\u001b[0m\u001b[0;34m(\u001b[0m\u001b[0;34m)\u001b[0m\u001b[0;34m\u001b[0m\u001b[0;34m\u001b[0m\u001b[0m\n\u001b[1;32m     30\u001b[0m         \u001b[0mdriver\u001b[0m\u001b[0;34m.\u001b[0m\u001b[0mget\u001b[0m\u001b[0;34m(\u001b[0m\u001b[0murl\u001b[0m\u001b[0;34m)\u001b[0m\u001b[0;34m\u001b[0m\u001b[0;34m\u001b[0m\u001b[0m\n\u001b[0;32m---> 31\u001b[0;31m         \u001b[0msoup\u001b[0m \u001b[0;34m=\u001b[0m \u001b[0mBeautifulSoup\u001b[0m\u001b[0;34m(\u001b[0m\u001b[0mdriver\u001b[0m\u001b[0;34m.\u001b[0m\u001b[0mpage_source\u001b[0m\u001b[0;34m,\u001b[0m \u001b[0;34m'html.parser'\u001b[0m\u001b[0;34m)\u001b[0m\u001b[0;34m\u001b[0m\u001b[0;34m\u001b[0m\u001b[0m\n\u001b[0m\u001b[1;32m     32\u001b[0m         \u001b[0mdriver\u001b[0m\u001b[0;34m.\u001b[0m\u001b[0mquit\u001b[0m\u001b[0;34m(\u001b[0m\u001b[0;34m)\u001b[0m\u001b[0;34m\u001b[0m\u001b[0;34m\u001b[0m\u001b[0m\n\u001b[1;32m     33\u001b[0m         \u001b[0;32mreturn\u001b[0m \u001b[0msoup\u001b[0m\u001b[0;34m\u001b[0m\u001b[0;34m\u001b[0m\u001b[0m\n",
      "\u001b[0;32m~/anaconda3/lib/python3.7/site-packages/selenium/webdriver/remote/webdriver.py\u001b[0m in \u001b[0;36mpage_source\u001b[0;34m(self)\u001b[0m\n\u001b[1;32m    677\u001b[0m             \u001b[0mdriver\u001b[0m\u001b[0;34m.\u001b[0m\u001b[0mpage_source\u001b[0m\u001b[0;34m\u001b[0m\u001b[0;34m\u001b[0m\u001b[0m\n\u001b[1;32m    678\u001b[0m         \"\"\"\n\u001b[0;32m--> 679\u001b[0;31m         \u001b[0;32mreturn\u001b[0m \u001b[0mself\u001b[0m\u001b[0;34m.\u001b[0m\u001b[0mexecute\u001b[0m\u001b[0;34m(\u001b[0m\u001b[0mCommand\u001b[0m\u001b[0;34m.\u001b[0m\u001b[0mGET_PAGE_SOURCE\u001b[0m\u001b[0;34m)\u001b[0m\u001b[0;34m[\u001b[0m\u001b[0;34m'value'\u001b[0m\u001b[0;34m]\u001b[0m\u001b[0;34m\u001b[0m\u001b[0;34m\u001b[0m\u001b[0m\n\u001b[0m\u001b[1;32m    680\u001b[0m \u001b[0;34m\u001b[0m\u001b[0m\n\u001b[1;32m    681\u001b[0m     \u001b[0;32mdef\u001b[0m \u001b[0mclose\u001b[0m\u001b[0;34m(\u001b[0m\u001b[0mself\u001b[0m\u001b[0;34m)\u001b[0m\u001b[0;34m:\u001b[0m\u001b[0;34m\u001b[0m\u001b[0;34m\u001b[0m\u001b[0m\n",
      "\u001b[0;32m~/anaconda3/lib/python3.7/site-packages/selenium/webdriver/remote/webdriver.py\u001b[0m in \u001b[0;36mexecute\u001b[0;34m(self, driver_command, params)\u001b[0m\n\u001b[1;32m    319\u001b[0m         \u001b[0mresponse\u001b[0m \u001b[0;34m=\u001b[0m \u001b[0mself\u001b[0m\u001b[0;34m.\u001b[0m\u001b[0mcommand_executor\u001b[0m\u001b[0;34m.\u001b[0m\u001b[0mexecute\u001b[0m\u001b[0;34m(\u001b[0m\u001b[0mdriver_command\u001b[0m\u001b[0;34m,\u001b[0m \u001b[0mparams\u001b[0m\u001b[0;34m)\u001b[0m\u001b[0;34m\u001b[0m\u001b[0;34m\u001b[0m\u001b[0m\n\u001b[1;32m    320\u001b[0m         \u001b[0;32mif\u001b[0m \u001b[0mresponse\u001b[0m\u001b[0;34m:\u001b[0m\u001b[0;34m\u001b[0m\u001b[0;34m\u001b[0m\u001b[0m\n\u001b[0;32m--> 321\u001b[0;31m             \u001b[0mself\u001b[0m\u001b[0;34m.\u001b[0m\u001b[0merror_handler\u001b[0m\u001b[0;34m.\u001b[0m\u001b[0mcheck_response\u001b[0m\u001b[0;34m(\u001b[0m\u001b[0mresponse\u001b[0m\u001b[0;34m)\u001b[0m\u001b[0;34m\u001b[0m\u001b[0;34m\u001b[0m\u001b[0m\n\u001b[0m\u001b[1;32m    322\u001b[0m             response['value'] = self._unwrap_value(\n\u001b[1;32m    323\u001b[0m                 response.get('value', None))\n",
      "\u001b[0;32m~/anaconda3/lib/python3.7/site-packages/selenium/webdriver/remote/errorhandler.py\u001b[0m in \u001b[0;36mcheck_response\u001b[0;34m(self, response)\u001b[0m\n\u001b[1;32m    240\u001b[0m                 \u001b[0malert_text\u001b[0m \u001b[0;34m=\u001b[0m \u001b[0mvalue\u001b[0m\u001b[0;34m[\u001b[0m\u001b[0;34m'alert'\u001b[0m\u001b[0;34m]\u001b[0m\u001b[0;34m.\u001b[0m\u001b[0mget\u001b[0m\u001b[0;34m(\u001b[0m\u001b[0;34m'text'\u001b[0m\u001b[0;34m)\u001b[0m\u001b[0;34m\u001b[0m\u001b[0;34m\u001b[0m\u001b[0m\n\u001b[1;32m    241\u001b[0m             \u001b[0;32mraise\u001b[0m \u001b[0mexception_class\u001b[0m\u001b[0;34m(\u001b[0m\u001b[0mmessage\u001b[0m\u001b[0;34m,\u001b[0m \u001b[0mscreen\u001b[0m\u001b[0;34m,\u001b[0m \u001b[0mstacktrace\u001b[0m\u001b[0;34m,\u001b[0m \u001b[0malert_text\u001b[0m\u001b[0;34m)\u001b[0m\u001b[0;34m\u001b[0m\u001b[0;34m\u001b[0m\u001b[0m\n\u001b[0;32m--> 242\u001b[0;31m         \u001b[0;32mraise\u001b[0m \u001b[0mexception_class\u001b[0m\u001b[0;34m(\u001b[0m\u001b[0mmessage\u001b[0m\u001b[0;34m,\u001b[0m \u001b[0mscreen\u001b[0m\u001b[0;34m,\u001b[0m \u001b[0mstacktrace\u001b[0m\u001b[0;34m)\u001b[0m\u001b[0;34m\u001b[0m\u001b[0;34m\u001b[0m\u001b[0m\n\u001b[0m\u001b[1;32m    243\u001b[0m \u001b[0;34m\u001b[0m\u001b[0m\n\u001b[1;32m    244\u001b[0m     \u001b[0;32mdef\u001b[0m \u001b[0m_value_or_default\u001b[0m\u001b[0;34m(\u001b[0m\u001b[0mself\u001b[0m\u001b[0;34m,\u001b[0m \u001b[0mobj\u001b[0m\u001b[0;34m,\u001b[0m \u001b[0mkey\u001b[0m\u001b[0;34m,\u001b[0m \u001b[0mdefault\u001b[0m\u001b[0;34m)\u001b[0m\u001b[0;34m:\u001b[0m\u001b[0;34m\u001b[0m\u001b[0;34m\u001b[0m\u001b[0m\n",
      "\u001b[0;31mNoSuchWindowException\u001b[0m: Message: no such window: target window already closed\nfrom unknown error: web view not found\n  (Session info: chrome=87.0.4280.141)\n"
     ]
    }
   ],
   "source": [
    "extract_zillow_info(df_out, './FB2.csv', n_start=0, driver_type='selenium', sec_sleep=3)"
   ]
  },
  {
   "source": [
    "### Get Katy House Info"
   ],
   "cell_type": "markdown",
   "metadata": {}
  },
  {
   "cell_type": "code",
   "execution_count": 27,
   "metadata": {},
   "outputs": [],
   "source": [
    "df_2021 = pd.read_excel(r'./target_asset/2021.xlsx')\n",
    "df_2021_Katy = df_2021[df_2021.Area == 'Katy']\n",
    "extract_zillow_info(df_2021_Katy[:2], './2021_Katy.csv', n_start=0, driver_type='selenium', sec_sleep=2)"
   ]
  },
  {
   "cell_type": "code",
   "execution_count": 300,
   "metadata": {},
   "outputs": [],
   "source": []
  }
 ]
}